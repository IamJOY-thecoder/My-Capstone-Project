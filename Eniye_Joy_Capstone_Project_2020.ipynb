{
  "nbformat": 4,
  "nbformat_minor": 0,
  "metadata": {
    "colab": {
      "name": "Eniye-Joy.Capstone Project 2020",
      "provenance": [],
      "collapsed_sections": [
        "GO8m_a3yQRD4",
        "toHXvSASQiOd",
        "laeVf9MAOO2d",
        "7Ejgc_YVXosn",
        "6y4IA8zsqjpT",
        "vVcHWsdEp66m",
        "RLDSLGWbuS8i",
        "foGzKuVgzmSK",
        "ymEHdG7Z5pBS",
        "UV5t-7x3NpVb",
        "KzfSzFePiYkz"
      ],
      "authorship_tag": "ABX9TyPd0rQ29HL2M08c+Oh3B1Lh",
      "include_colab_link": true
    },
    "kernelspec": {
      "name": "python3",
      "display_name": "Python 3"
    }
  },
  "cells": [
    {
      "cell_type": "markdown",
      "metadata": {
        "id": "view-in-github",
        "colab_type": "text"
      },
      "source": [
        "<a href=\"https://colab.research.google.com/github/IamJOY-thecoder/My-Capstone-Project/blob/master/Eniye_Joy_Capstone_Project_2020.ipynb\" target=\"_parent\"><img src=\"https://colab.research.google.com/assets/colab-badge.svg\" alt=\"Open In Colab\"/></a>"
      ]
    },
    {
      "cell_type": "markdown",
      "metadata": {
        "id": "GO8m_a3yQRD4",
        "colab_type": "text"
      },
      "source": [
        "# Packages Installed and Dataframe created from Data.gov\n",
        "\n",
        "\n",
        "> Reformated the Date column\n",
        "\n"
      ]
    },
    {
      "cell_type": "code",
      "metadata": {
        "id": "b6vRJzOGWfab",
        "colab_type": "code",
        "colab": {
          "base_uri": "https://localhost:8080/",
          "height": 1000
        },
        "outputId": "955fe341-6162-4163-87f0-d02a12c978d6"
      },
      "source": [
        "!pip install pandas\n",
        "!pip install sodapy\n",
        "!pip install xlrd\n",
        "import pandas as pd\n",
        "import numpy as np\n",
        "import matplotlib.pyplot as plt\n",
        "import seaborn as sns\n",
        "from numpy import unique\n",
        "from sodapy import Socrata\n",
        "import calendar\n",
        "from datetime import datetime\n",
        "\n",
        "missing_values = ['na', 'n/a', ' ']\n",
        "\n",
        "df = pd.read_csv('https://data.ct.gov/api/views/rybz-nyjw/rows.csv', na_values = missing_values)\n",
        "df.Date = df.Date.astype(str)\n",
        "\n",
        "df['Date'] = pd.to_datetime(df['Date']).dt.normalize()\n",
        "#df = df.set_index('ID')\n",
        "df"
      ],
      "execution_count": 28,
      "outputs": [
        {
          "output_type": "stream",
          "text": [
            "Requirement already satisfied: pandas in /usr/local/lib/python3.6/dist-packages (1.0.5)\n",
            "Requirement already satisfied: python-dateutil>=2.6.1 in /usr/local/lib/python3.6/dist-packages (from pandas) (2.8.1)\n",
            "Requirement already satisfied: numpy>=1.13.3 in /usr/local/lib/python3.6/dist-packages (from pandas) (1.18.5)\n",
            "Requirement already satisfied: pytz>=2017.2 in /usr/local/lib/python3.6/dist-packages (from pandas) (2018.9)\n",
            "Requirement already satisfied: six>=1.5 in /usr/local/lib/python3.6/dist-packages (from python-dateutil>=2.6.1->pandas) (1.15.0)\n",
            "Requirement already satisfied: sodapy in /usr/local/lib/python3.6/dist-packages (2.1.0)\n",
            "Requirement already satisfied: requests>=2.20.0 in /usr/local/lib/python3.6/dist-packages (from sodapy) (2.23.0)\n",
            "Requirement already satisfied: idna<3,>=2.5 in /usr/local/lib/python3.6/dist-packages (from requests>=2.20.0->sodapy) (2.10)\n",
            "Requirement already satisfied: urllib3!=1.25.0,!=1.25.1,<1.26,>=1.21.1 in /usr/local/lib/python3.6/dist-packages (from requests>=2.20.0->sodapy) (1.24.3)\n",
            "Requirement already satisfied: certifi>=2017.4.17 in /usr/local/lib/python3.6/dist-packages (from requests>=2.20.0->sodapy) (2020.6.20)\n",
            "Requirement already satisfied: chardet<4,>=3.0.2 in /usr/local/lib/python3.6/dist-packages (from requests>=2.20.0->sodapy) (3.0.4)\n",
            "Requirement already satisfied: xlrd in /usr/local/lib/python3.6/dist-packages (1.1.0)\n"
          ],
          "name": "stdout"
        },
        {
          "output_type": "execute_result",
          "data": {
            "text/html": [
              "<div>\n",
              "<style scoped>\n",
              "    .dataframe tbody tr th:only-of-type {\n",
              "        vertical-align: middle;\n",
              "    }\n",
              "\n",
              "    .dataframe tbody tr th {\n",
              "        vertical-align: top;\n",
              "    }\n",
              "\n",
              "    .dataframe thead th {\n",
              "        text-align: right;\n",
              "    }\n",
              "</style>\n",
              "<table border=\"1\" class=\"dataframe\">\n",
              "  <thead>\n",
              "    <tr style=\"text-align: right;\">\n",
              "      <th></th>\n",
              "      <th>ID</th>\n",
              "      <th>Date</th>\n",
              "      <th>DateType</th>\n",
              "      <th>Age</th>\n",
              "      <th>Sex</th>\n",
              "      <th>Race</th>\n",
              "      <th>ResidenceCity</th>\n",
              "      <th>ResidenceCounty</th>\n",
              "      <th>ResidenceState</th>\n",
              "      <th>DeathCity</th>\n",
              "      <th>DeathCounty</th>\n",
              "      <th>Location</th>\n",
              "      <th>LocationifOther</th>\n",
              "      <th>DescriptionofInjury</th>\n",
              "      <th>InjuryPlace</th>\n",
              "      <th>InjuryCity</th>\n",
              "      <th>InjuryCounty</th>\n",
              "      <th>InjuryState</th>\n",
              "      <th>COD</th>\n",
              "      <th>OtherSignifican</th>\n",
              "      <th>Heroin</th>\n",
              "      <th>Cocaine</th>\n",
              "      <th>Fentanyl</th>\n",
              "      <th>FentanylAnalogue</th>\n",
              "      <th>Oxycodone</th>\n",
              "      <th>Oxymorphone</th>\n",
              "      <th>Ethanol</th>\n",
              "      <th>Hydrocodone</th>\n",
              "      <th>Benzodiazepine</th>\n",
              "      <th>Methadone</th>\n",
              "      <th>Amphet</th>\n",
              "      <th>Tramad</th>\n",
              "      <th>Morphine_NotHeroin</th>\n",
              "      <th>Hydromorphone</th>\n",
              "      <th>Other</th>\n",
              "      <th>OpiateNOS</th>\n",
              "      <th>AnyOpioid</th>\n",
              "      <th>MannerofDeath</th>\n",
              "      <th>DeathCityGeo</th>\n",
              "      <th>ResidenceCityGeo</th>\n",
              "      <th>InjuryCityGeo</th>\n",
              "    </tr>\n",
              "  </thead>\n",
              "  <tbody>\n",
              "    <tr>\n",
              "      <th>0</th>\n",
              "      <td>14-0273</td>\n",
              "      <td>2014-06-28</td>\n",
              "      <td>DateReported</td>\n",
              "      <td>NaN</td>\n",
              "      <td>NaN</td>\n",
              "      <td>NaN</td>\n",
              "      <td>NaN</td>\n",
              "      <td>NaN</td>\n",
              "      <td>NaN</td>\n",
              "      <td>NaN</td>\n",
              "      <td>NaN</td>\n",
              "      <td>NaN</td>\n",
              "      <td>NaN</td>\n",
              "      <td>substance</td>\n",
              "      <td>NaN</td>\n",
              "      <td>NaN</td>\n",
              "      <td>NaN</td>\n",
              "      <td>NaN</td>\n",
              "      <td>Acute fent, hydrocod, benzodiazepine</td>\n",
              "      <td>NaN</td>\n",
              "      <td>NaN</td>\n",
              "      <td>NaN</td>\n",
              "      <td>Y</td>\n",
              "      <td>NaN</td>\n",
              "      <td>NaN</td>\n",
              "      <td>NaN</td>\n",
              "      <td>NaN</td>\n",
              "      <td>Y</td>\n",
              "      <td>Y</td>\n",
              "      <td>NaN</td>\n",
              "      <td>NaN</td>\n",
              "      <td>NaN</td>\n",
              "      <td>NaN</td>\n",
              "      <td>NaN</td>\n",
              "      <td>NaN</td>\n",
              "      <td>NaN</td>\n",
              "      <td>NaN</td>\n",
              "      <td>Accident</td>\n",
              "      <td>CT\\n(41.575155, -72.738288)</td>\n",
              "      <td>CT\\n(41.575155, -72.738288)</td>\n",
              "      <td>CT\\n(41.575155, -72.738288)</td>\n",
              "    </tr>\n",
              "    <tr>\n",
              "      <th>1</th>\n",
              "      <td>13-0102</td>\n",
              "      <td>2013-03-21</td>\n",
              "      <td>DateofDeath</td>\n",
              "      <td>48.0</td>\n",
              "      <td>Male</td>\n",
              "      <td>Black</td>\n",
              "      <td>NORWALK</td>\n",
              "      <td>NaN</td>\n",
              "      <td>NaN</td>\n",
              "      <td>NORWALK</td>\n",
              "      <td>FAIRFIELD</td>\n",
              "      <td>Hospital</td>\n",
              "      <td>NaN</td>\n",
              "      <td>NaN</td>\n",
              "      <td>NaN</td>\n",
              "      <td>NaN</td>\n",
              "      <td>NaN</td>\n",
              "      <td>NaN</td>\n",
              "      <td>Cocaine Intoxication</td>\n",
              "      <td>NaN</td>\n",
              "      <td>NaN</td>\n",
              "      <td>Y</td>\n",
              "      <td>NaN</td>\n",
              "      <td>NaN</td>\n",
              "      <td>NaN</td>\n",
              "      <td>NaN</td>\n",
              "      <td>NaN</td>\n",
              "      <td>NaN</td>\n",
              "      <td>NaN</td>\n",
              "      <td>NaN</td>\n",
              "      <td>NaN</td>\n",
              "      <td>NaN</td>\n",
              "      <td>NaN</td>\n",
              "      <td>NaN</td>\n",
              "      <td>NaN</td>\n",
              "      <td>NaN</td>\n",
              "      <td>NaN</td>\n",
              "      <td>Accident</td>\n",
              "      <td>Norwalk, CT\\n(41.11805, -73.412906)</td>\n",
              "      <td>NORWALK, CT\\n(41.11805, -73.412906)</td>\n",
              "      <td>CT\\n(41.575155, -72.738288)</td>\n",
              "    </tr>\n",
              "    <tr>\n",
              "      <th>2</th>\n",
              "      <td>16-0165</td>\n",
              "      <td>2016-03-13</td>\n",
              "      <td>DateofDeath</td>\n",
              "      <td>30.0</td>\n",
              "      <td>Female</td>\n",
              "      <td>White</td>\n",
              "      <td>SANDY HOOK</td>\n",
              "      <td>FAIRFIELD</td>\n",
              "      <td>CT</td>\n",
              "      <td>DANBURY</td>\n",
              "      <td>NaN</td>\n",
              "      <td>Hospital</td>\n",
              "      <td>NaN</td>\n",
              "      <td>Substance Abuse</td>\n",
              "      <td>Unknown</td>\n",
              "      <td>UNKNOWN</td>\n",
              "      <td>NaN</td>\n",
              "      <td>NaN</td>\n",
              "      <td>Acute Heroin and Cocaine Intoxication</td>\n",
              "      <td>NaN</td>\n",
              "      <td>Y</td>\n",
              "      <td>Y</td>\n",
              "      <td>NaN</td>\n",
              "      <td>NaN</td>\n",
              "      <td>NaN</td>\n",
              "      <td>NaN</td>\n",
              "      <td>NaN</td>\n",
              "      <td>NaN</td>\n",
              "      <td>NaN</td>\n",
              "      <td>NaN</td>\n",
              "      <td>NaN</td>\n",
              "      <td>NaN</td>\n",
              "      <td>NaN</td>\n",
              "      <td>NaN</td>\n",
              "      <td>NaN</td>\n",
              "      <td>NaN</td>\n",
              "      <td>Y</td>\n",
              "      <td>Accident</td>\n",
              "      <td>Danbury, CT\\n(41.393666, -73.451539)</td>\n",
              "      <td>SANDY HOOK, CT\\n(41.419998, -73.282501)</td>\n",
              "      <td>NaN</td>\n",
              "    </tr>\n",
              "    <tr>\n",
              "      <th>3</th>\n",
              "      <td>16-0208</td>\n",
              "      <td>2016-03-31</td>\n",
              "      <td>DateofDeath</td>\n",
              "      <td>23.0</td>\n",
              "      <td>Male</td>\n",
              "      <td>White</td>\n",
              "      <td>RYE</td>\n",
              "      <td>WESTCHESTER</td>\n",
              "      <td>NY</td>\n",
              "      <td>GREENWICH</td>\n",
              "      <td>NaN</td>\n",
              "      <td>Hospital</td>\n",
              "      <td>NaN</td>\n",
              "      <td>substance abuse</td>\n",
              "      <td>Residence</td>\n",
              "      <td>RYE</td>\n",
              "      <td>NaN</td>\n",
              "      <td>NaN</td>\n",
              "      <td>Acute Fentanyl and Morphine Intoxication</td>\n",
              "      <td>NaN</td>\n",
              "      <td>Y</td>\n",
              "      <td>NaN</td>\n",
              "      <td>Y</td>\n",
              "      <td>NaN</td>\n",
              "      <td>NaN</td>\n",
              "      <td>NaN</td>\n",
              "      <td>NaN</td>\n",
              "      <td>NaN</td>\n",
              "      <td>NaN</td>\n",
              "      <td>NaN</td>\n",
              "      <td>NaN</td>\n",
              "      <td>NaN</td>\n",
              "      <td>NaN</td>\n",
              "      <td>NaN</td>\n",
              "      <td>NaN</td>\n",
              "      <td>NaN</td>\n",
              "      <td>Y</td>\n",
              "      <td>Accident</td>\n",
              "      <td>Greenwich, CT\\n(41.026526, -73.628549)</td>\n",
              "      <td>NaN</td>\n",
              "      <td>NaN</td>\n",
              "    </tr>\n",
              "    <tr>\n",
              "      <th>4</th>\n",
              "      <td>13-0052</td>\n",
              "      <td>2013-02-13</td>\n",
              "      <td>DateofDeath</td>\n",
              "      <td>22.0</td>\n",
              "      <td>Male</td>\n",
              "      <td>Asian, Other</td>\n",
              "      <td>FLUSHING</td>\n",
              "      <td>QUEENS</td>\n",
              "      <td>NaN</td>\n",
              "      <td>GREENWICH</td>\n",
              "      <td>FAIRFIELD</td>\n",
              "      <td>Hospital</td>\n",
              "      <td>NaN</td>\n",
              "      <td>Transdermal Absorption</td>\n",
              "      <td>Other</td>\n",
              "      <td>NaN</td>\n",
              "      <td>NaN</td>\n",
              "      <td>NaN</td>\n",
              "      <td>Fentanyl Intoxication</td>\n",
              "      <td>NaN</td>\n",
              "      <td>NaN</td>\n",
              "      <td>NaN</td>\n",
              "      <td>Y</td>\n",
              "      <td>NaN</td>\n",
              "      <td>NaN</td>\n",
              "      <td>NaN</td>\n",
              "      <td>NaN</td>\n",
              "      <td>NaN</td>\n",
              "      <td>NaN</td>\n",
              "      <td>NaN</td>\n",
              "      <td>NaN</td>\n",
              "      <td>NaN</td>\n",
              "      <td>NaN</td>\n",
              "      <td>NaN</td>\n",
              "      <td>NaN</td>\n",
              "      <td>NaN</td>\n",
              "      <td>NaN</td>\n",
              "      <td>Accident</td>\n",
              "      <td>Greenwich, CT\\n(41.026526, -73.628549)</td>\n",
              "      <td>NaN</td>\n",
              "      <td>CT\\n(41.575155, -72.738288)</td>\n",
              "    </tr>\n",
              "    <tr>\n",
              "      <th>...</th>\n",
              "      <td>...</td>\n",
              "      <td>...</td>\n",
              "      <td>...</td>\n",
              "      <td>...</td>\n",
              "      <td>...</td>\n",
              "      <td>...</td>\n",
              "      <td>...</td>\n",
              "      <td>...</td>\n",
              "      <td>...</td>\n",
              "      <td>...</td>\n",
              "      <td>...</td>\n",
              "      <td>...</td>\n",
              "      <td>...</td>\n",
              "      <td>...</td>\n",
              "      <td>...</td>\n",
              "      <td>...</td>\n",
              "      <td>...</td>\n",
              "      <td>...</td>\n",
              "      <td>...</td>\n",
              "      <td>...</td>\n",
              "      <td>...</td>\n",
              "      <td>...</td>\n",
              "      <td>...</td>\n",
              "      <td>...</td>\n",
              "      <td>...</td>\n",
              "      <td>...</td>\n",
              "      <td>...</td>\n",
              "      <td>...</td>\n",
              "      <td>...</td>\n",
              "      <td>...</td>\n",
              "      <td>...</td>\n",
              "      <td>...</td>\n",
              "      <td>...</td>\n",
              "      <td>...</td>\n",
              "      <td>...</td>\n",
              "      <td>...</td>\n",
              "      <td>...</td>\n",
              "      <td>...</td>\n",
              "      <td>...</td>\n",
              "      <td>...</td>\n",
              "      <td>...</td>\n",
              "    </tr>\n",
              "    <tr>\n",
              "      <th>5100</th>\n",
              "      <td>15-0466</td>\n",
              "      <td>2015-09-08</td>\n",
              "      <td>DateReported</td>\n",
              "      <td>43.0</td>\n",
              "      <td>Male</td>\n",
              "      <td>White</td>\n",
              "      <td>CHESHIRE</td>\n",
              "      <td>NEW HAVEN</td>\n",
              "      <td>CT</td>\n",
              "      <td>CHESHIRE</td>\n",
              "      <td>NEW HAVEN</td>\n",
              "      <td>Residence</td>\n",
              "      <td>NaN</td>\n",
              "      <td>NaN</td>\n",
              "      <td>Residence</td>\n",
              "      <td>NaN</td>\n",
              "      <td>NaN</td>\n",
              "      <td>NaN</td>\n",
              "      <td>Acute Intoxication due to the Combined Effects...</td>\n",
              "      <td>NaN</td>\n",
              "      <td>NaN</td>\n",
              "      <td>NaN</td>\n",
              "      <td>NaN</td>\n",
              "      <td>NaN</td>\n",
              "      <td>NaN</td>\n",
              "      <td>NaN</td>\n",
              "      <td>Y</td>\n",
              "      <td>NaN</td>\n",
              "      <td>Y</td>\n",
              "      <td>NaN</td>\n",
              "      <td>NaN</td>\n",
              "      <td>NaN</td>\n",
              "      <td>NaN</td>\n",
              "      <td>NaN</td>\n",
              "      <td>NaN</td>\n",
              "      <td>NaN</td>\n",
              "      <td>NaN</td>\n",
              "      <td>Accident</td>\n",
              "      <td>CHESHIRE, CT\\n(41.498834, -72.901448)</td>\n",
              "      <td>CHESHIRE, CT\\n(41.498834, -72.901448)</td>\n",
              "      <td>CT\\n(41.575155, -72.738288)</td>\n",
              "    </tr>\n",
              "    <tr>\n",
              "      <th>5101</th>\n",
              "      <td>17-0618</td>\n",
              "      <td>2017-07-22</td>\n",
              "      <td>DateReported</td>\n",
              "      <td>21.0</td>\n",
              "      <td>Male</td>\n",
              "      <td>White</td>\n",
              "      <td>MADISON</td>\n",
              "      <td>NEW HAVEN</td>\n",
              "      <td>CT</td>\n",
              "      <td>NEW HAVEN</td>\n",
              "      <td>NEW HAVEN</td>\n",
              "      <td>Hospital</td>\n",
              "      <td>NaN</td>\n",
              "      <td>Drug Abuse</td>\n",
              "      <td>In Vehicle</td>\n",
              "      <td>NaN</td>\n",
              "      <td>NaN</td>\n",
              "      <td>NaN</td>\n",
              "      <td>Multidrug Toxicity Including Heroin, Alprazola...</td>\n",
              "      <td>NaN</td>\n",
              "      <td>Y</td>\n",
              "      <td>NaN</td>\n",
              "      <td>NaN</td>\n",
              "      <td>NaN</td>\n",
              "      <td>NaN</td>\n",
              "      <td>NaN</td>\n",
              "      <td>NaN</td>\n",
              "      <td>NaN</td>\n",
              "      <td>Y</td>\n",
              "      <td>NaN</td>\n",
              "      <td>NaN</td>\n",
              "      <td>NaN</td>\n",
              "      <td>NaN</td>\n",
              "      <td>NaN</td>\n",
              "      <td>NaN</td>\n",
              "      <td>NaN</td>\n",
              "      <td>NaN</td>\n",
              "      <td>Accident</td>\n",
              "      <td>New Haven, CT\\n(41.308252, -72.924161)</td>\n",
              "      <td>MADISON, CT\\n(41.271447, -72.60086)</td>\n",
              "      <td>CT\\n(41.575155, -72.738288)</td>\n",
              "    </tr>\n",
              "    <tr>\n",
              "      <th>5102</th>\n",
              "      <td>18-0646</td>\n",
              "      <td>2018-08-14</td>\n",
              "      <td>DateofDeath</td>\n",
              "      <td>30.0</td>\n",
              "      <td>Male</td>\n",
              "      <td>White</td>\n",
              "      <td>LAWRENCEVILLE</td>\n",
              "      <td>TIOGA</td>\n",
              "      <td>PA</td>\n",
              "      <td>DANBURY</td>\n",
              "      <td>FAIRFIELD</td>\n",
              "      <td>Other</td>\n",
              "      <td>NaN</td>\n",
              "      <td>Drug abuse</td>\n",
              "      <td>Hotel or Motel</td>\n",
              "      <td>DANBURY</td>\n",
              "      <td>FAIRFIELD</td>\n",
              "      <td>NaN</td>\n",
              "      <td>Multidrug Toxicity Including Heroin, Fentanyl,...</td>\n",
              "      <td>NaN</td>\n",
              "      <td>Y</td>\n",
              "      <td>NaN</td>\n",
              "      <td>Y</td>\n",
              "      <td>Y</td>\n",
              "      <td>NaN</td>\n",
              "      <td>NaN</td>\n",
              "      <td>NaN</td>\n",
              "      <td>NaN</td>\n",
              "      <td>NaN</td>\n",
              "      <td>NaN</td>\n",
              "      <td>NaN</td>\n",
              "      <td>Y</td>\n",
              "      <td>NaN</td>\n",
              "      <td>NaN</td>\n",
              "      <td>NaN</td>\n",
              "      <td>NaN</td>\n",
              "      <td>Y</td>\n",
              "      <td>Accident</td>\n",
              "      <td>DANBURY, CT\\n(41.393666, -73.451539)</td>\n",
              "      <td>NaN</td>\n",
              "      <td>DANBURY, CT\\n(41.393666, -73.451539)</td>\n",
              "    </tr>\n",
              "    <tr>\n",
              "      <th>5103</th>\n",
              "      <td>14-0124</td>\n",
              "      <td>2014-03-16</td>\n",
              "      <td>DateofDeath</td>\n",
              "      <td>33.0</td>\n",
              "      <td>Male</td>\n",
              "      <td>White</td>\n",
              "      <td>HARTFORD</td>\n",
              "      <td>NaN</td>\n",
              "      <td>NaN</td>\n",
              "      <td>WINDSOR</td>\n",
              "      <td>NaN</td>\n",
              "      <td>Other</td>\n",
              "      <td>NaN</td>\n",
              "      <td>Substance Abuse</td>\n",
              "      <td>Hotel or Motel</td>\n",
              "      <td>NaN</td>\n",
              "      <td>NaN</td>\n",
              "      <td>NaN</td>\n",
              "      <td>Acute Fentanyl intoxication</td>\n",
              "      <td>Cardiac hypertrophy</td>\n",
              "      <td>NaN</td>\n",
              "      <td>NaN</td>\n",
              "      <td>Y</td>\n",
              "      <td>NaN</td>\n",
              "      <td>NaN</td>\n",
              "      <td>NaN</td>\n",
              "      <td>NaN</td>\n",
              "      <td>NaN</td>\n",
              "      <td>NaN</td>\n",
              "      <td>NaN</td>\n",
              "      <td>NaN</td>\n",
              "      <td>NaN</td>\n",
              "      <td>NaN</td>\n",
              "      <td>NaN</td>\n",
              "      <td>NaN</td>\n",
              "      <td>NaN</td>\n",
              "      <td>NaN</td>\n",
              "      <td>Accident</td>\n",
              "      <td>WINDSOR, CT\\n(41.852781, -72.64379)</td>\n",
              "      <td>HARTFORD, CT\\n(41.765775, -72.673356)</td>\n",
              "      <td>CT\\n(41.575155, -72.738288)</td>\n",
              "    </tr>\n",
              "    <tr>\n",
              "      <th>5104</th>\n",
              "      <td>16-0637</td>\n",
              "      <td>2016-09-15</td>\n",
              "      <td>DateofDeath</td>\n",
              "      <td>33.0</td>\n",
              "      <td>Male</td>\n",
              "      <td>White</td>\n",
              "      <td>THOMASTON</td>\n",
              "      <td>LITCHFIELD</td>\n",
              "      <td>CT</td>\n",
              "      <td>WATERBURY</td>\n",
              "      <td>NaN</td>\n",
              "      <td>Other</td>\n",
              "      <td>By Railroad Tracks</td>\n",
              "      <td>Substance Abuse</td>\n",
              "      <td>Railroad Track</td>\n",
              "      <td>WATERBURY, CT</td>\n",
              "      <td>NaN</td>\n",
              "      <td>NaN</td>\n",
              "      <td>Acute Heroin Intoxication</td>\n",
              "      <td>NaN</td>\n",
              "      <td>Y</td>\n",
              "      <td>NaN</td>\n",
              "      <td>NaN</td>\n",
              "      <td>NaN</td>\n",
              "      <td>NaN</td>\n",
              "      <td>NaN</td>\n",
              "      <td>NaN</td>\n",
              "      <td>NaN</td>\n",
              "      <td>NaN</td>\n",
              "      <td>NaN</td>\n",
              "      <td>NaN</td>\n",
              "      <td>NaN</td>\n",
              "      <td>NaN</td>\n",
              "      <td>NaN</td>\n",
              "      <td>NaN</td>\n",
              "      <td>NaN</td>\n",
              "      <td>Y</td>\n",
              "      <td>Accident</td>\n",
              "      <td>WATERBURY, CT\\n(41.554261, -73.043069)</td>\n",
              "      <td>THOMASTON, CT\\n(41.674124, -73.073189)</td>\n",
              "      <td>WATERBURY, CT, CT\\n(41.554261, -73.043069)</td>\n",
              "    </tr>\n",
              "  </tbody>\n",
              "</table>\n",
              "<p>5105 rows × 41 columns</p>\n",
              "</div>"
            ],
            "text/plain": [
              "           ID  ...                               InjuryCityGeo\n",
              "0     14-0273  ...                 CT\\n(41.575155, -72.738288)\n",
              "1     13-0102  ...                 CT\\n(41.575155, -72.738288)\n",
              "2     16-0165  ...                                         NaN\n",
              "3     16-0208  ...                                         NaN\n",
              "4     13-0052  ...                 CT\\n(41.575155, -72.738288)\n",
              "...       ...  ...                                         ...\n",
              "5100  15-0466  ...                 CT\\n(41.575155, -72.738288)\n",
              "5101  17-0618  ...                 CT\\n(41.575155, -72.738288)\n",
              "5102  18-0646  ...        DANBURY, CT\\n(41.393666, -73.451539)\n",
              "5103  14-0124  ...                 CT\\n(41.575155, -72.738288)\n",
              "5104  16-0637  ...  WATERBURY, CT, CT\\n(41.554261, -73.043069)\n",
              "\n",
              "[5105 rows x 41 columns]"
            ]
          },
          "metadata": {
            "tags": []
          },
          "execution_count": 28
        }
      ]
    },
    {
      "cell_type": "markdown",
      "metadata": {
        "id": "toHXvSASQiOd",
        "colab_type": "text"
      },
      "source": [
        "# Number of Rows and Columns in Dataset"
      ]
    },
    {
      "cell_type": "code",
      "metadata": {
        "id": "twy_Pwk4Mq6z",
        "colab_type": "code",
        "colab": {
          "base_uri": "https://localhost:8080/",
          "height": 34
        },
        "outputId": "000f3999-34a0-4ca8-fbe6-ba1536a81298"
      },
      "source": [
        "df.shape"
      ],
      "execution_count": null,
      "outputs": [
        {
          "output_type": "execute_result",
          "data": {
            "text/plain": [
              "(5105, 40)"
            ]
          },
          "metadata": {
            "tags": []
          },
          "execution_count": 79
        }
      ]
    },
    {
      "cell_type": "markdown",
      "metadata": {
        "id": "laeVf9MAOO2d",
        "colab_type": "text"
      },
      "source": [
        "# Total Number of Drug Related Deaths between 2012-2018 in CT\n",
        "\n",
        "> Using the total number of IDs issued to victims\n",
        "\n",
        "\n"
      ]
    },
    {
      "cell_type": "code",
      "metadata": {
        "id": "Y7Wg_yi5O99M",
        "colab_type": "code",
        "colab": {
          "base_uri": "https://localhost:8080/",
          "height": 50
        },
        "outputId": "b03dd52b-4bea-4588-e8b8-5835ae5e0e52"
      },
      "source": [
        "df[['ID']].count()\n",
        "\n"
      ],
      "execution_count": 23,
      "outputs": [
        {
          "output_type": "execute_result",
          "data": {
            "text/plain": [
              "ID    5105\n",
              "dtype: int64"
            ]
          },
          "metadata": {
            "tags": []
          },
          "execution_count": 23
        }
      ]
    },
    {
      "cell_type": "markdown",
      "metadata": {
        "id": "7Ejgc_YVXosn",
        "colab_type": "text"
      },
      "source": [
        "# Races Affected by Drug Abuse and their Totals"
      ]
    },
    {
      "cell_type": "code",
      "metadata": {
        "id": "B5yc2-glYAAv",
        "colab_type": "code",
        "colab": {
          "base_uri": "https://localhost:8080/",
          "height": 564
        },
        "outputId": "c5fbb3dd-4209-4223-cdfd-bd6eb538c88f"
      },
      "source": [
        "# Horizontal bar graph displaying the different races affected by drugs in CT 2012-201\n",
        "\n",
        "df2 = pd.DataFrame.from_records(df)\n",
        "\n",
        "Race=df2.groupby(['Race'])['ID'].nunique().sort_values(ascending=True)\n",
        "print(Race)\n",
        "print(\"\\n\")\n",
        "Race_graph=Race.plot(kind='barh',colormap='gist_rainbow')\n",
        "plt.xlim(-10,600) \n",
        "plt.title('Race Affected by Drug Abuse in CT 2012-2018')\n",
        "plt.xlabel('Number of Metrics')\n",
        "plt.ylabel('Race')\n"
      ],
      "execution_count": 13,
      "outputs": [
        {
          "output_type": "stream",
          "text": [
            "Race\n",
            "Hawaiian                     1\n",
            "Native American, Other       1\n",
            "Chinese                      2\n",
            "Other                       11\n",
            "Asian Indian                14\n",
            "Asian, Other                18\n",
            "Unknown                     23\n",
            "Hispanic, Black             24\n",
            "Black                      433\n",
            "Hispanic, White            561\n",
            "White                     4004\n",
            "Name: ID, dtype: int64\n",
            "\n",
            "\n"
          ],
          "name": "stdout"
        },
        {
          "output_type": "execute_result",
          "data": {
            "text/plain": [
              "Text(0, 0.5, 'Race')"
            ]
          },
          "metadata": {
            "tags": []
          },
          "execution_count": 13
        },
        {
          "output_type": "display_data",
          "data": {
            "image/png": "[encoded data removed]",
            "text/plain": [
              "<Figure size 432x288 with 1 Axes>"
            ]
          },
          "metadata": {
            "tags": [],
            "needs_background": "light"
          }
        }
      ]
    },
    {
      "cell_type": "markdown",
      "metadata": {
        "id": "6y4IA8zsqjpT",
        "colab_type": "text"
      },
      "source": [
        "# Total Number of Male & Female Victims\n",
        "\n",
        "\n",
        "\n",
        "> Including unknown\n",
        "\n"
      ]
    },
    {
      "cell_type": "code",
      "metadata": {
        "id": "K0upwmGCSBSE",
        "colab_type": "code",
        "colab": {
          "base_uri": "https://localhost:8080/",
          "height": 84
        },
        "outputId": "033a3782-db81-4a5d-9c45-4c17165a5c6d"
      },
      "source": [
        "df['Sex'].value_counts()"
      ],
      "execution_count": 2,
      "outputs": [
        {
          "output_type": "execute_result",
          "data": {
            "text/plain": [
              "Male       3773\n",
              "Female     1325\n",
              "Unknown       1\n",
              "Name: Sex, dtype: int64"
            ]
          },
          "metadata": {
            "tags": []
          },
          "execution_count": 2
        }
      ]
    },
    {
      "cell_type": "markdown",
      "metadata": {
        "id": "vVcHWsdEp66m",
        "colab_type": "text"
      },
      "source": [
        "# The Sex & Average age of victims\n",
        "\n",
        "> including the unknown\n",
        "\n"
      ]
    },
    {
      "cell_type": "code",
      "metadata": {
        "id": "jXI5Ybx5p9EB",
        "colab_type": "code",
        "colab": {
          "base_uri": "https://localhost:8080/",
          "height": 101
        },
        "outputId": "0db263d0-3dd8-48c1-d1b8-c2f81eba4ebb"
      },
      "source": [
        "df.groupby(\"Sex\")[\"Age\"].mean()\n"
      ],
      "execution_count": 3,
      "outputs": [
        {
          "output_type": "execute_result",
          "data": {
            "text/plain": [
              "Sex\n",
              "Female     42.538868\n",
              "Male       41.754307\n",
              "Unknown    66.000000\n",
              "Name: Age, dtype: float64"
            ]
          },
          "metadata": {
            "tags": []
          },
          "execution_count": 3
        }
      ]
    },
    {
      "cell_type": "markdown",
      "metadata": {
        "id": "RLDSLGWbuS8i",
        "colab_type": "text"
      },
      "source": [
        "# Counting Male & Female Victims < 18 years "
      ]
    },
    {
      "cell_type": "code",
      "metadata": {
        "id": "xGySVECmue7-",
        "colab_type": "code",
        "colab": {
          "base_uri": "https://localhost:8080/",
          "height": 67
        },
        "outputId": "1406e2bb-4d9e-4f8e-e09d-ed982780b91a"
      },
      "source": [
        "Count_male = (df[(df.Age < 18) & (df.Sex == 'Male')].count())\n",
        "print(\"The number of male victims less than 18 years old is \" + (str(Count_male.Sex)))\n",
        "\n",
        "print(\"\")\n",
        "\n",
        "Count_female = (df[(df.Age < 18) & (df.Sex == 'Female')].count())\n",
        "print(\"The number of female victims less than 18 years old is \" + (str(Count_female.Sex)))"
      ],
      "execution_count": 24,
      "outputs": [
        {
          "output_type": "stream",
          "text": [
            "The number of male victims less than 18 years old is 6\n",
            "\n",
            "The number of female victims less than 18 years old is 7\n"
          ],
          "name": "stdout"
        }
      ]
    },
    {
      "cell_type": "markdown",
      "metadata": {
        "id": "foGzKuVgzmSK",
        "colab_type": "text"
      },
      "source": [
        "# Male & Female Victims >= 18 years"
      ]
    },
    {
      "cell_type": "code",
      "metadata": {
        "id": "U4DGx81Tz7fz",
        "colab_type": "code",
        "colab": {
          "base_uri": "https://localhost:8080/",
          "height": 67
        },
        "outputId": "56677d71-a938-4b98-d221-9f9a3421eb71"
      },
      "source": [
        "Count_male = (df[(df.Age >= 18) & (df.Sex == 'Male')].count())\n",
        "print(\"The number of male victims less than 18 years old is \" + (str(Count_male.Sex)))\n",
        "\n",
        "print(\"\")\n",
        "\n",
        "Count_female = (df[(df.Age >= 18) & (df.Sex == 'Female')].count())\n",
        "print(\"The number of female victims less than 18 years old is \" + (str(Count_female.Sex)))\n"
      ],
      "execution_count": 29,
      "outputs": [
        {
          "output_type": "stream",
          "text": [
            "The number of male victims less than 18 years old is 3767\n",
            "\n",
            "The number of female victims less than 18 years old is 1318\n"
          ],
          "name": "stdout"
        }
      ]
    },
    {
      "cell_type": "markdown",
      "metadata": {
        "id": "ymEHdG7Z5pBS",
        "colab_type": "text"
      },
      "source": [
        "#  Number of Heroine & Cocaine Related Deaths\n",
        "\n",
        "> (Top 2 Most Abused Drugs)\n",
        "\n",
        "\n"
      ]
    },
    {
      "cell_type": "code",
      "metadata": {
        "id": "oCAtlUo3VVGn",
        "colab_type": "code",
        "colab": {
          "base_uri": "https://localhost:8080/",
          "height": 50
        },
        "outputId": "4dea16eb-32cf-4923-8904-10df535c4535"
      },
      "source": [
        "df['Heroin'].value_counts()\n"
      ],
      "execution_count": 7,
      "outputs": [
        {
          "output_type": "execute_result",
          "data": {
            "text/plain": [
              "Y    2529\n",
              "Name: Heroin, dtype: int64"
            ]
          },
          "metadata": {
            "tags": []
          },
          "execution_count": 7
        }
      ]
    },
    {
      "cell_type": "code",
      "metadata": {
        "id": "6gew2UNW504g",
        "colab_type": "code",
        "colab": {
          "base_uri": "https://localhost:8080/",
          "height": 50
        },
        "outputId": "8d9103a3-842e-4a85-86c3-7336830ce9fa"
      },
      "source": [
        "df['Cocaine'].value_counts()\n"
      ],
      "execution_count": null,
      "outputs": [
        {
          "output_type": "execute_result",
          "data": {
            "text/plain": [
              "Y    1521\n",
              "Name: Cocaine, dtype: int64"
            ]
          },
          "metadata": {
            "tags": []
          },
          "execution_count": 96
        }
      ]
    },
    {
      "cell_type": "markdown",
      "metadata": {
        "id": "UV5t-7x3NpVb",
        "colab_type": "text"
      },
      "source": [
        "# Harmful drugs that caused deaths in 2012 - 2018"
      ]
    },
    {
      "cell_type": "code",
      "metadata": {
        "id": "Nd_JmI_TbTGp",
        "colab_type": "code",
        "colab": {
          "base_uri": "https://localhost:8080/",
          "height": 619
        },
        "outputId": "31a5a61b-7338-4577-d6af-e205d8ecd276"
      },
      "source": [
        "df= pd.DataFrame(df, columns = ['Heroin', 'Cocaine', 'Fentanyl', 'FentanylAnalogue', 'Oxycodone', 'Oxymorphone',\n",
        "        'Ethanol', 'Hydrocodone', 'Benzodiazepine', 'Methadone', 'Amphet', 'Tramad', 'Morphine_NotHeroin', \n",
        "        'Hydromorphone', 'Other', 'OpiateNOS', 'AnyOpioid' ])\n",
        "df"
      ],
      "execution_count": null,
      "outputs": [
        {
          "output_type": "execute_result",
          "data": {
            "text/html": [
              "<div>\n",
              "<style scoped>\n",
              "    .dataframe tbody tr th:only-of-type {\n",
              "        vertical-align: middle;\n",
              "    }\n",
              "\n",
              "    .dataframe tbody tr th {\n",
              "        vertical-align: top;\n",
              "    }\n",
              "\n",
              "    .dataframe thead th {\n",
              "        text-align: right;\n",
              "    }\n",
              "</style>\n",
              "<table border=\"1\" class=\"dataframe\">\n",
              "  <thead>\n",
              "    <tr style=\"text-align: right;\">\n",
              "      <th></th>\n",
              "      <th>Heroin</th>\n",
              "      <th>Cocaine</th>\n",
              "      <th>Fentanyl</th>\n",
              "      <th>FentanylAnalogue</th>\n",
              "      <th>Oxycodone</th>\n",
              "      <th>Oxymorphone</th>\n",
              "      <th>Ethanol</th>\n",
              "      <th>Hydrocodone</th>\n",
              "      <th>Benzodiazepine</th>\n",
              "      <th>Methadone</th>\n",
              "      <th>Amphet</th>\n",
              "      <th>Tramad</th>\n",
              "      <th>Morphine_NotHeroin</th>\n",
              "      <th>Hydromorphone</th>\n",
              "      <th>Other</th>\n",
              "      <th>OpiateNOS</th>\n",
              "      <th>AnyOpioid</th>\n",
              "    </tr>\n",
              "    <tr>\n",
              "      <th>ID</th>\n",
              "      <th></th>\n",
              "      <th></th>\n",
              "      <th></th>\n",
              "      <th></th>\n",
              "      <th></th>\n",
              "      <th></th>\n",
              "      <th></th>\n",
              "      <th></th>\n",
              "      <th></th>\n",
              "      <th></th>\n",
              "      <th></th>\n",
              "      <th></th>\n",
              "      <th></th>\n",
              "      <th></th>\n",
              "      <th></th>\n",
              "      <th></th>\n",
              "      <th></th>\n",
              "    </tr>\n",
              "  </thead>\n",
              "  <tbody>\n",
              "    <tr>\n",
              "      <th>14-0273</th>\n",
              "      <td>NaN</td>\n",
              "      <td>NaN</td>\n",
              "      <td>Y</td>\n",
              "      <td>NaN</td>\n",
              "      <td>NaN</td>\n",
              "      <td>NaN</td>\n",
              "      <td>NaN</td>\n",
              "      <td>Y</td>\n",
              "      <td>Y</td>\n",
              "      <td>NaN</td>\n",
              "      <td>NaN</td>\n",
              "      <td>NaN</td>\n",
              "      <td>NaN</td>\n",
              "      <td>NaN</td>\n",
              "      <td>NaN</td>\n",
              "      <td>NaN</td>\n",
              "      <td>NaN</td>\n",
              "    </tr>\n",
              "    <tr>\n",
              "      <th>13-0102</th>\n",
              "      <td>NaN</td>\n",
              "      <td>Y</td>\n",
              "      <td>NaN</td>\n",
              "      <td>NaN</td>\n",
              "      <td>NaN</td>\n",
              "      <td>NaN</td>\n",
              "      <td>NaN</td>\n",
              "      <td>NaN</td>\n",
              "      <td>NaN</td>\n",
              "      <td>NaN</td>\n",
              "      <td>NaN</td>\n",
              "      <td>NaN</td>\n",
              "      <td>NaN</td>\n",
              "      <td>NaN</td>\n",
              "      <td>NaN</td>\n",
              "      <td>NaN</td>\n",
              "      <td>NaN</td>\n",
              "    </tr>\n",
              "    <tr>\n",
              "      <th>16-0165</th>\n",
              "      <td>Y</td>\n",
              "      <td>Y</td>\n",
              "      <td>NaN</td>\n",
              "      <td>NaN</td>\n",
              "      <td>NaN</td>\n",
              "      <td>NaN</td>\n",
              "      <td>NaN</td>\n",
              "      <td>NaN</td>\n",
              "      <td>NaN</td>\n",
              "      <td>NaN</td>\n",
              "      <td>NaN</td>\n",
              "      <td>NaN</td>\n",
              "      <td>NaN</td>\n",
              "      <td>NaN</td>\n",
              "      <td>NaN</td>\n",
              "      <td>NaN</td>\n",
              "      <td>Y</td>\n",
              "    </tr>\n",
              "    <tr>\n",
              "      <th>16-0208</th>\n",
              "      <td>Y</td>\n",
              "      <td>NaN</td>\n",
              "      <td>Y</td>\n",
              "      <td>NaN</td>\n",
              "      <td>NaN</td>\n",
              "      <td>NaN</td>\n",
              "      <td>NaN</td>\n",
              "      <td>NaN</td>\n",
              "      <td>NaN</td>\n",
              "      <td>NaN</td>\n",
              "      <td>NaN</td>\n",
              "      <td>NaN</td>\n",
              "      <td>NaN</td>\n",
              "      <td>NaN</td>\n",
              "      <td>NaN</td>\n",
              "      <td>NaN</td>\n",
              "      <td>Y</td>\n",
              "    </tr>\n",
              "    <tr>\n",
              "      <th>13-0052</th>\n",
              "      <td>NaN</td>\n",
              "      <td>NaN</td>\n",
              "      <td>Y</td>\n",
              "      <td>NaN</td>\n",
              "      <td>NaN</td>\n",
              "      <td>NaN</td>\n",
              "      <td>NaN</td>\n",
              "      <td>NaN</td>\n",
              "      <td>NaN</td>\n",
              "      <td>NaN</td>\n",
              "      <td>NaN</td>\n",
              "      <td>NaN</td>\n",
              "      <td>NaN</td>\n",
              "      <td>NaN</td>\n",
              "      <td>NaN</td>\n",
              "      <td>NaN</td>\n",
              "      <td>NaN</td>\n",
              "    </tr>\n",
              "    <tr>\n",
              "      <th>...</th>\n",
              "      <td>...</td>\n",
              "      <td>...</td>\n",
              "      <td>...</td>\n",
              "      <td>...</td>\n",
              "      <td>...</td>\n",
              "      <td>...</td>\n",
              "      <td>...</td>\n",
              "      <td>...</td>\n",
              "      <td>...</td>\n",
              "      <td>...</td>\n",
              "      <td>...</td>\n",
              "      <td>...</td>\n",
              "      <td>...</td>\n",
              "      <td>...</td>\n",
              "      <td>...</td>\n",
              "      <td>...</td>\n",
              "      <td>...</td>\n",
              "    </tr>\n",
              "    <tr>\n",
              "      <th>15-0466</th>\n",
              "      <td>NaN</td>\n",
              "      <td>NaN</td>\n",
              "      <td>NaN</td>\n",
              "      <td>NaN</td>\n",
              "      <td>NaN</td>\n",
              "      <td>NaN</td>\n",
              "      <td>Y</td>\n",
              "      <td>NaN</td>\n",
              "      <td>Y</td>\n",
              "      <td>NaN</td>\n",
              "      <td>NaN</td>\n",
              "      <td>NaN</td>\n",
              "      <td>NaN</td>\n",
              "      <td>NaN</td>\n",
              "      <td>NaN</td>\n",
              "      <td>NaN</td>\n",
              "      <td>NaN</td>\n",
              "    </tr>\n",
              "    <tr>\n",
              "      <th>17-0618</th>\n",
              "      <td>Y</td>\n",
              "      <td>NaN</td>\n",
              "      <td>NaN</td>\n",
              "      <td>NaN</td>\n",
              "      <td>NaN</td>\n",
              "      <td>NaN</td>\n",
              "      <td>NaN</td>\n",
              "      <td>NaN</td>\n",
              "      <td>Y</td>\n",
              "      <td>NaN</td>\n",
              "      <td>NaN</td>\n",
              "      <td>NaN</td>\n",
              "      <td>NaN</td>\n",
              "      <td>NaN</td>\n",
              "      <td>NaN</td>\n",
              "      <td>NaN</td>\n",
              "      <td>NaN</td>\n",
              "    </tr>\n",
              "    <tr>\n",
              "      <th>18-0646</th>\n",
              "      <td>Y</td>\n",
              "      <td>NaN</td>\n",
              "      <td>Y</td>\n",
              "      <td>Y</td>\n",
              "      <td>NaN</td>\n",
              "      <td>NaN</td>\n",
              "      <td>NaN</td>\n",
              "      <td>NaN</td>\n",
              "      <td>NaN</td>\n",
              "      <td>NaN</td>\n",
              "      <td>NaN</td>\n",
              "      <td>Y</td>\n",
              "      <td>NaN</td>\n",
              "      <td>NaN</td>\n",
              "      <td>NaN</td>\n",
              "      <td>NaN</td>\n",
              "      <td>Y</td>\n",
              "    </tr>\n",
              "    <tr>\n",
              "      <th>14-0124</th>\n",
              "      <td>NaN</td>\n",
              "      <td>NaN</td>\n",
              "      <td>Y</td>\n",
              "      <td>NaN</td>\n",
              "      <td>NaN</td>\n",
              "      <td>NaN</td>\n",
              "      <td>NaN</td>\n",
              "      <td>NaN</td>\n",
              "      <td>NaN</td>\n",
              "      <td>NaN</td>\n",
              "      <td>NaN</td>\n",
              "      <td>NaN</td>\n",
              "      <td>NaN</td>\n",
              "      <td>NaN</td>\n",
              "      <td>NaN</td>\n",
              "      <td>NaN</td>\n",
              "      <td>NaN</td>\n",
              "    </tr>\n",
              "    <tr>\n",
              "      <th>16-0637</th>\n",
              "      <td>Y</td>\n",
              "      <td>NaN</td>\n",
              "      <td>NaN</td>\n",
              "      <td>NaN</td>\n",
              "      <td>NaN</td>\n",
              "      <td>NaN</td>\n",
              "      <td>NaN</td>\n",
              "      <td>NaN</td>\n",
              "      <td>NaN</td>\n",
              "      <td>NaN</td>\n",
              "      <td>NaN</td>\n",
              "      <td>NaN</td>\n",
              "      <td>NaN</td>\n",
              "      <td>NaN</td>\n",
              "      <td>NaN</td>\n",
              "      <td>NaN</td>\n",
              "      <td>Y</td>\n",
              "    </tr>\n",
              "  </tbody>\n",
              "</table>\n",
              "<p>5105 rows × 17 columns</p>\n",
              "</div>"
            ],
            "text/plain": [
              "        Heroin Cocaine Fentanyl  ... Other OpiateNOS AnyOpioid\n",
              "ID                               ...                          \n",
              "14-0273    NaN     NaN        Y  ...   NaN       NaN       NaN\n",
              "13-0102    NaN       Y      NaN  ...   NaN       NaN       NaN\n",
              "16-0165      Y       Y      NaN  ...   NaN       NaN         Y\n",
              "16-0208      Y     NaN        Y  ...   NaN       NaN         Y\n",
              "13-0052    NaN     NaN        Y  ...   NaN       NaN       NaN\n",
              "...        ...     ...      ...  ...   ...       ...       ...\n",
              "15-0466    NaN     NaN      NaN  ...   NaN       NaN       NaN\n",
              "17-0618      Y     NaN      NaN  ...   NaN       NaN       NaN\n",
              "18-0646      Y     NaN        Y  ...   NaN       NaN         Y\n",
              "14-0124    NaN     NaN        Y  ...   NaN       NaN       NaN\n",
              "16-0637      Y     NaN      NaN  ...   NaN       NaN         Y\n",
              "\n",
              "[5105 rows x 17 columns]"
            ]
          },
          "metadata": {
            "tags": []
          },
          "execution_count": 97
        }
      ]
    },
    {
      "cell_type": "markdown",
      "metadata": {
        "id": "KzfSzFePiYkz",
        "colab_type": "text"
      },
      "source": [
        "# Displaying the Minimum, Maximum, Median age of victims\n",
        "\n",
        "\n",
        "> \n",
        "Specific combinations of aggregating statistics can be defined using the DataFrame.agg() method\n"
      ]
    },
    {
      "cell_type": "code",
      "metadata": {
        "id": "YV9ZBxsjoWSN",
        "colab_type": "code",
        "colab": {
          "base_uri": "https://localhost:8080/",
          "height": 166
        },
        "outputId": "bc9c209e-a526-47d8-a66e-7debc9aa861e"
      },
      "source": [
        "df.agg({'Age': ['min', 'max', 'median', 'skew']})"
      ],
      "execution_count": 4,
      "outputs": [
        {
          "output_type": "execute_result",
          "data": {
            "text/html": [
              "<div>\n",
              "<style scoped>\n",
              "    .dataframe tbody tr th:only-of-type {\n",
              "        vertical-align: middle;\n",
              "    }\n",
              "\n",
              "    .dataframe tbody tr th {\n",
              "        vertical-align: top;\n",
              "    }\n",
              "\n",
              "    .dataframe thead th {\n",
              "        text-align: right;\n",
              "    }\n",
              "</style>\n",
              "<table border=\"1\" class=\"dataframe\">\n",
              "  <thead>\n",
              "    <tr style=\"text-align: right;\">\n",
              "      <th></th>\n",
              "      <th>Age</th>\n",
              "    </tr>\n",
              "  </thead>\n",
              "  <tbody>\n",
              "    <tr>\n",
              "      <th>min</th>\n",
              "      <td>14.000000</td>\n",
              "    </tr>\n",
              "    <tr>\n",
              "      <th>max</th>\n",
              "      <td>87.000000</td>\n",
              "    </tr>\n",
              "    <tr>\n",
              "      <th>median</th>\n",
              "      <td>42.000000</td>\n",
              "    </tr>\n",
              "    <tr>\n",
              "      <th>skew</th>\n",
              "      <td>0.101118</td>\n",
              "    </tr>\n",
              "  </tbody>\n",
              "</table>\n",
              "</div>"
            ],
            "text/plain": [
              "              Age\n",
              "min     14.000000\n",
              "max     87.000000\n",
              "median  42.000000\n",
              "skew     0.101118"
            ]
          },
          "metadata": {
            "tags": []
          },
          "execution_count": 4
        }
      ]
    }
  ]
}